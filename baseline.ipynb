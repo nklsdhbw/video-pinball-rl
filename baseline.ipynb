{
 "cells": [
  {
   "cell_type": "code",
   "execution_count": 15,
   "metadata": {},
   "outputs": [
    {
     "name": "stdout",
     "output_type": "stream",
     "text": [
      "Average score over 10 episodes: 1504.5\n"
     ]
    }
   ],
   "source": [
    "import gymnasium as gym\n",
    "import numpy as np\n",
    "\n",
    "def run_baseline():\n",
    "    env = gym.make(\"ALE/VideoPinball-v5\", render_mode=\"rgb_array\")\n",
    "    num_episodes = 10\n",
    "    scores = []\n",
    "\n",
    "    for episode in range(num_episodes):\n",
    "        obs, info = env.reset()\n",
    "        done = False\n",
    "        counter = 0\n",
    "        score = 0\n",
    "        last_ball_position = None\n",
    "        ball_stuck_counter = 0\n",
    "\n",
    "        actions = [5, 1, 7, 6, 3, 4, 7, 8, 5, 1]\n",
    "\n",
    "        while not done:\n",
    "            action = 0\n",
    "            if counter in range(0, 10):\n",
    "                action = actions[counter]\n",
    "            else:\n",
    "                action = 2 if counter % 2 == 0 else 6\n",
    "\n",
    "            obs, reward, terminated, truncated, info = env.step(action)\n",
    "            env.render()\n",
    "\n",
    "            score += reward\n",
    "            counter += 1\n",
    "\n",
    "            # Check if the ball is stuck\n",
    "            current_ball_position = info.get('ball_x', None), info.get('ball_y', None)\n",
    "            if current_ball_position == last_ball_position:\n",
    "                ball_stuck_counter += 1\n",
    "            else:\n",
    "                ball_stuck_counter = 0\n",
    "\n",
    "            last_ball_position = current_ball_position\n",
    "\n",
    "            if ball_stuck_counter > 20000:  # if the ball is stuck for 50 frames\n",
    "                done = True\n",
    "\n",
    "            if terminated or truncated:\n",
    "                done = True\n",
    "\n",
    "        scores.append(score)\n",
    "        env.reset()\n",
    "\n",
    "    env.close()\n",
    "    average_score = np.mean(scores)\n",
    "    print(f\"Average score over {num_episodes} episodes: {average_score}\")\n",
    "\n",
    "if __name__ == \"__main__\":\n",
    "    run_baseline()\n"
   ]
  }
 ],
 "metadata": {
  "kernelspec": {
   "display_name": "Python 3",
   "language": "python",
   "name": "python3"
  },
  "language_info": {
   "codemirror_mode": {
    "name": "ipython",
    "version": 3
   },
   "file_extension": ".py",
   "mimetype": "text/x-python",
   "name": "python",
   "nbconvert_exporter": "python",
   "pygments_lexer": "ipython3",
   "version": "3.9.6"
  }
 },
 "nbformat": 4,
 "nbformat_minor": 2
}
