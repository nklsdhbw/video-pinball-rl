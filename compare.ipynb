{
 "cells": [
  {
   "cell_type": "code",
   "execution_count": 3,
   "metadata": {},
   "outputs": [
    {
     "name": "stdout",
     "output_type": "stream",
     "text": [
      "Running the baseline model...\n",
      "[1105.0, 2006.0, 1306.0, 9409.0, 4401.0, 4708.0, 9715.0, 1005.0, 3807.0, 300.0, 1302.0, 401.0, 1902.0, 402.0, 2205.0]\n",
      "Average score over 15 epochs: 2931.6\n",
      "Running the final model...\n",
      "Create an environment and agent...\n",
      "Environment and agent successfully created\n",
      "Load the trained model...\n",
      "Start testing the model over 5 epochs...\n",
      "Epoch 1: Score = 13823.0\n",
      "Epoch 2: Score = 4508.0\n",
      "Epoch 3: Score = 23041.0\n",
      "Epoch 4: Score = 5306.0\n",
      "Epoch 5: Score = 13716.0\n",
      "Testing complete\n",
      "Average score over 5 epochs: 12078.8\n",
      "Exiting...\n",
      "Baseline model: Average score over 15 episodes = 2931.6\n",
      "Final model: Average score over 5 episodes = 12078.8\n",
      "Final model outperformed the baseline model\n"
     ]
    }
   ],
   "source": [
    "\n",
    "import os\n",
    "if os.path.basename(os.getcwd()) != 'video-pinball-rl':\n",
    "    os.chdir(\"./video-pinball-rl\")\n",
    "num_epochs = 5\n",
    "from baseline import run_baseline\n",
    "from models import models\n",
    "\n",
    "def compare() -> None:\n",
    "    print(\"Running the baseline model...\")\n",
    "    # multiply by 3 to get the same number of episodes as the final model due to the\n",
    "    # fact that the baseline model executes only 1 episode per epoch and the final model\n",
    "    # executes 3 episodes per run\n",
    "    baseline_epochs, baseline_score = run_baseline(num_epochs=num_epochs*3)\n",
    "    print(\"Running the final model...\")\n",
    "    final_epochs, final_score = models(num_epochs=num_epochs)\n",
    "    \n",
    "    print(f\"Baseline model: Average score over {baseline_epochs} episodes = {baseline_score}\")\n",
    "    print(f\"Final model: Average score over {final_epochs} episodes = {final_score}\")\n",
    "    \n",
    "    if final_score > baseline_score:\n",
    "        print(\"Final model outperformed the baseline model\")\n",
    "    elif final_score < baseline_score:\n",
    "        print(\"Final model underperformed the baseline model\")\n",
    "    else:\n",
    "        print(\"Final model performed equally to the baseline model\")\n",
    "\n",
    "if __name__ == \"__main__\":\n",
    "    compare()"
   ]
  }
 ],
 "metadata": {
  "kernelspec": {
   "display_name": ".venv",
   "language": "python",
   "name": "python3"
  },
  "language_info": {
   "codemirror_mode": {
    "name": "ipython",
    "version": 3
   },
   "file_extension": ".py",
   "mimetype": "text/x-python",
   "name": "python",
   "nbconvert_exporter": "python",
   "pygments_lexer": "ipython3",
   "version": "3.9.6"
  }
 },
 "nbformat": 4,
 "nbformat_minor": 2
}
